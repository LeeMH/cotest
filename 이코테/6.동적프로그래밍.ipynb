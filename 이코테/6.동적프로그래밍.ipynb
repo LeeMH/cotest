{
 "cells": [
  {
   "cell_type": "markdown",
   "metadata": {},
   "source": [
    "# 동적 프로그래밍\n",
    "\n",
    "## 1. 동적 프로그래밍이란?\n",
    "\n",
    "* `dynamic programming`의 번역\n",
    "* 한번 `계산된 문제`는 `다시 계산하지 않도록` `메모리에 저장`하여 시간 복잡도를 개선하는 방법\n",
    "\n",
    "## 2. 다이나믹 프로그래밍 조건\n",
    "\n",
    "* 최적 부분 구조(Optimal Substructure)\n",
    "    - 큰 문제를 작은 문제로 나눌 수 있으며,\n",
    "    - 작은 문제의 답을 모아서 큰 문제를 해결할 수 있다.\n",
    "* 중복되는 부분 문제(Overlapping Subproblem)\n",
    "    - 동일한 작은 문제를 반복적으로 해결해야 하는 경우\n",
    "\n",
    "## 3. 다이나믹 프로그래밍 접근방법\n",
    "\n",
    "* `다이나믹 프로그래밍으로 풀어야 하는 유형`인지 파악하는게 가장 중요\n",
    "* 그리디, 구현, 완전탐색등의 아이디어로 해결할 수 있는지 검토\n",
    "* 일단 재귀함수로 완전탐색으로 구현(탑다운)\n",
    "* 작은 문제의 답이 큰 문제 해결에 재사용 될 수 있는지 확인\n",
    "\n",
    "## 4. 상향식(bottom up) vs 하향식(top down)\n",
    "\n",
    "* 상향식\n",
    "    - `상향식`은 제일 작은 값을 우선 계산하고, 이후 값들을 계산해 나간다.\n",
    "    - `반복문`을 사용해서 구현하는 것이 용이하다.\n",
    "* 하향식\n",
    "    - `하향식`은 재귀를 사용해 구현한다.\n",
    "    - `재귀` 사용시 `중단 조건`이 반드시 필요하며, 대부분 제일 작은 값들이다."
   ]
  },
  {
   "cell_type": "markdown",
   "metadata": {},
   "source": [
    "문제1\n",
    "\n",
    "피보나치 수열을 DP테이블을 사용해서 작성하시요."
   ]
  },
  {
   "cell_type": "code",
   "execution_count": 1,
   "metadata": {},
   "outputs": [
    {
     "data": {
      "text/plain": [
       "354224848179261915075"
      ]
     },
     "execution_count": 1,
     "metadata": {},
     "output_type": "execute_result"
    }
   ],
   "source": [
    "dt = [0] * 100\n",
    "\n",
    "def solve(n):\n",
    "    if n == 0 or n == 1:\n",
    "        return 1\n",
    "    \n",
    "    if dt[n] != 0:\n",
    "        return dt[n]\n",
    "    \n",
    "    dt[n] = solve(n-1) + solve(n-2)\n",
    "    return dt[n]\n",
    "\n",
    "\n",
    "solve(99)"
   ]
  },
  {
   "cell_type": "markdown",
   "metadata": {},
   "source": [
    "문제 2\n",
    "\n",
    "개미 전사가 메뚜기의 식량창고를 습격한다.\n",
    "각각의 식량 창고에는 각각의 식량의 수가 기록되어 있다.\n",
    "이때, 연속된 식량창고를 습격하는 경우 메뚜기에게 발각될 수 있다.\n",
    "따라서, 최소한 1칸 이상 떨어진 식량 창고를 습격해야 한다.\n",
    "\n",
    "첫번째 줄에 식량 창고의 개수가 N으로 입력된다.\n",
    "그리고, 공백으로 구분된 숫자가 문자열로 입력된다.\n",
    "가장 많이 약탈할 수 있는 식량을 구하시오.\n",
    "\n",
    "예시\n",
    "\n",
    "입력\n",
    "4\n",
    "1 3 1 5\n",
    "\n",
    "출력\n",
    "8\n",
    "\n",
    "해결 아이디어\n",
    "- 좌측부터 공략한다고 가정하면, 첫번째 값을 선택했을 경우와 선택하지 않은 경우로 볼 수 있다.\n",
    "- max(C1 + C3~, C2~)\n",
    "- 즉, 첫번째 값(C1)을 선택했다면, C2 선택할 수 없다.\n",
    "- 첫번째 값을 선택하지 않았다면, C2부터의 값중 최대값을 구하면 된다."
   ]
  },
  {
   "cell_type": "code",
   "execution_count": 3,
   "metadata": {},
   "outputs": [
    {
     "name": "stdout",
     "output_type": "stream",
     "text": [
      "8\n",
      "12\n"
     ]
    }
   ],
   "source": [
    "dt = [None] * 100\n",
    "\n",
    "def solve(nums):\n",
    "    # 하나만 있다면 당연히 해당 값이 가장 큰 값이다.\n",
    "    dt[0] = nums[0]\n",
    "\n",
    "    # 두개가 있다면 인접해 있기 때문에 둘중 큰 값을 선택해야 한다.\n",
    "    dt[1] = max(nums[0], nums[1])\n",
    "\n",
    "    for ii in range(2, len(nums)):\n",
    "        dt[ii] = max(dt[ii - 1], dt[ii -2] + nums[ii])\n",
    "\n",
    "    print(dt[len(nums) - 1])\n",
    "\n",
    "solve([1, 3, 1, 5])\n",
    "solve([2, 7, 9, 3, 1])"
   ]
  },
  {
   "cell_type": "markdown",
   "metadata": {},
   "source": [
    "문제 3\n",
    "\n",
    "1 만들기.\n",
    "입력된 숫자 N에 다음 4가지 연산을 수행할 수 있다.\n",
    "- N/5\n",
    "- N/3\n",
    "- N/2\n",
    "- N - 1\n",
    "가장 작은 연산으로 1을 만들수 있는 횟수를 구하시오.\n",
    "\n",
    "예시\n",
    "\n",
    "입력\n",
    "26\n",
    "\n",
    "출력\n",
    "3\n",
    "\n",
    "26 -> 26 -1 -> 25 /5 -> 5 /5 -> 1 "
   ]
  },
  {
   "cell_type": "code",
   "execution_count": 9,
   "metadata": {},
   "outputs": [
    {
     "name": "stdout",
     "output_type": "stream",
     "text": [
      "3\n",
      "4\n"
     ]
    }
   ],
   "source": [
    "dt = [0] * 100\n",
    "\n",
    "def solve(n):\n",
    "    if n == 1:\n",
    "        return 0\n",
    "    \n",
    "    if dt[n] != 0:\n",
    "        return dt[n]\n",
    "    \n",
    "    dt[n] = min(\n",
    "        solve(n // 5) if n % 5 == 0 else 999, \n",
    "        solve(n // 3) if n % 3 == 0 else 999,\n",
    "        solve(n // 2) if n % 2 == 0 else 999,\n",
    "        solve(n - 1)\n",
    "    ) + 1\n",
    "\n",
    "    return dt[n]\n",
    "\n",
    "print(solve(26))\n",
    "print(solve(28))"
   ]
  },
  {
   "cell_type": "markdown",
   "metadata": {},
   "source": [
    "문제 4\n",
    "\n",
    "효율적인 화폐구성\n",
    "N가지 종류의 화폐가 있다.\n",
    "화폐의 갯수를 최소로 사용해서 M원이 되도록 하라.\n",
    "예를들어, 2, 3원이 있을때 15원을 만드는 최소 방법은 3원을 5개 사용하는 것이다.\n",
    "단, 불가능한 경우 -1을 출력한다.\n",
    "\n",
    "N, M이 입력되고,\n",
    "공백으로 분리된 N개의 화폐 단위가 입력된다.\n",
    "\n",
    "예시\n",
    "\n",
    "입력\n",
    "2 15\n",
    "2 3\n",
    "\n",
    "출력\n",
    "5\n",
    "\n",
    "입력\n",
    "3 4\n",
    "3\n",
    "5\n",
    "7\n",
    "\n",
    "출력\n",
    "-1"
   ]
  },
  {
   "cell_type": "code",
   "execution_count": 22,
   "metadata": {},
   "outputs": [
    {
     "name": "stdout",
     "output_type": "stream",
     "text": [
      "5\n",
      "2\n"
     ]
    }
   ],
   "source": [
    "\n",
    "def solve(num, coins):     \n",
    "    dt = [999] * 100\n",
    "    dt[0] = 0\n",
    "    for ii in range(num+1):\n",
    "         for c in coins:\n",
    "            if ii == c:\n",
    "                dt[ii] = 1\n",
    "            elif ii < c:\n",
    "                continue\n",
    "            else:\n",
    "                dt[ii] = min(dt[ii], dt[ii - c] + 1)\n",
    "\n",
    "    return dt[num]\n",
    "\n",
    "\n",
    "print(solve(15, [2, 3]))\n",
    "print(solve(7, [2, 3, 5]))\n",
    "\n"
   ]
  }
 ],
 "metadata": {
  "kernelspec": {
   "display_name": "3.10.default",
   "language": "python",
   "name": "python3"
  },
  "language_info": {
   "codemirror_mode": {
    "name": "ipython",
    "version": 3
   },
   "file_extension": ".py",
   "mimetype": "text/x-python",
   "name": "python",
   "nbconvert_exporter": "python",
   "pygments_lexer": "ipython3",
   "version": "3.10.13"
  }
 },
 "nbformat": 4,
 "nbformat_minor": 2
}
