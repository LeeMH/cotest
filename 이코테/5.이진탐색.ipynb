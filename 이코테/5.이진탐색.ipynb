{
 "cells": [
  {
   "cell_type": "markdown",
   "metadata": {},
   "source": [
    "# 이진탐색\n",
    "\n",
    "## 1. 이진탐색이란?\n",
    "\n",
    "* 앞에서 부터 순서대로 검색하는 순차 탐색과 달리,\n",
    "\n",
    "* `정렬`되어 있는 자료에서 탐색범위를 `절반`씩 줄여가며 탐색하는 방법\n",
    "* 시간복잡도는 O(log(n))\n",
    "\n",
    "## 2. 이진탐색 라이브러리\n",
    "\n",
    "* bisect_left(a, x): a에 x값을 넣을때 들어갈 위치, 동일한 값이 있다면 왼쪽 인덱스 리턴\n",
    "* bisect_right(a, x): 위와 동일하며, 동일한 값이 있다면 오른쪽 인덱스 리턴\n",
    "\n",
    "```python\n",
    "from bisect import bisect_right, bisect_left\n",
    "\n",
    "a = [1, 3, 5, 5, 9]\n",
    "x = 5\n",
    "\n",
    "print(bisect_left(a, x)) # 2가 출력됨\n",
    "print(bisect_right(a, x)) # 4가 출력됨\n",
    "```\n",
    "## 3. 이진탐색 예시\n",
    "\n",
    "* 리스트 a에서 x, y 사이의 값의 개수를 구하시오\n",
    "\n",
    "```python\n",
    "from bisect import bisect_right, bisect_left\n",
    "\n",
    "def count_by_range(a, x, y):\n",
    "    right = bisect_right(a, y)\n",
    "    left = bisect_left(a, x)\n",
    "    return right - left\n",
    "\n",
    "a = [1, 2, 3, 3, 3, 3, 4, 4, 8, 9]\n",
    "print(count_by_range(a, 4, 4)) # 2가 출력됨\n",
    "print(count_by_range(a, -1, 3)) # 6이 출력됨\n",
    "```\n",
    "\n",
    "## 4. 파라메트릭(parametric search) 서치\n",
    "\n",
    "* 최적화 문제를 결정문제(yes or no)로 바꾸어 해결하는 방법\n",
    "* 일반적으로 코딩테스트에서 최적화 문제는 이진탐색으로 해결가능"
   ]
  },
  {
   "cell_type": "markdown",
   "metadata": {},
   "source": [
    "문제 1.\n",
    "\n",
    "M, K가 입력된다.\n",
    "M은 떡의 갯수이고, K는 손님이 원하는 길이이다.\n",
    "공백으로 구분된 문자열에 각각 떡의 길이가 입력된다.\n",
    "이때, H높이의 절단기로 자르고, 나머지의 길이가 손님이 원하는 길이가 되도록,\n",
    "최적의 높이 H를 구하시오.\n",
    "\n",
    "예시\n",
    "\n",
    "입력\n",
    "4 6\n",
    "19 15 10 17\n",
    "\n",
    "출력\n",
    "15"
   ]
  },
  {
   "cell_type": "code",
   "execution_count": 4,
   "metadata": {},
   "outputs": [
    {
     "name": "stdout",
     "output_type": "stream",
     "text": [
      "0, 19 => 9\n",
      "10, 19 => 14\n",
      "15, 19 => 17\n",
      "15, 16 => 15\n",
      "16, 16 => 16\n",
      "15\n"
     ]
    }
   ],
   "source": [
    "def solve(arr, k):\n",
    "    arr.sort()\n",
    "\n",
    "    start = 0\n",
    "    end = max(arr)\n",
    "\n",
    "    result = 0\n",
    "    while start <= end:\n",
    "        mid = (start + end) // 2\n",
    "\n",
    "        print('{}, {} => {}'.format(start, end, mid))\n",
    "\n",
    "        total = 0\n",
    "        for x in arr:\n",
    "            if x > mid:\n",
    "                total += x - mid\n",
    "        if total < k:\n",
    "            end = mid - 1\n",
    "        else:\n",
    "            start = mid + 1\n",
    "            result = mid\n",
    "\n",
    "    return result\n",
    "\n",
    "arr = [19, 15, 10, 17]\n",
    "\n",
    "print(solve(arr, 6))\n",
    "\n"
   ]
  }
 ],
 "metadata": {
  "kernelspec": {
   "display_name": "3.10.default",
   "language": "python",
   "name": "python3"
  },
  "language_info": {
   "codemirror_mode": {
    "name": "ipython",
    "version": 3
   },
   "file_extension": ".py",
   "mimetype": "text/x-python",
   "name": "python",
   "nbconvert_exporter": "python",
   "pygments_lexer": "ipython3",
   "version": "3.10.13"
  }
 },
 "nbformat": 4,
 "nbformat_minor": 2
}
