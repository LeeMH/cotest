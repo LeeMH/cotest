{
 "cells": [
  {
   "cell_type": "markdown",
   "metadata": {},
   "source": [
    "# 정렬알고리즘\n",
    "\n",
    "## 1. 정렬이란?\n",
    "\n",
    "* 주어진 데이터를 특정 기준으로 순서를 맞추는 행위\n",
    "\n",
    "## 2. 정렬 알고리즘\n",
    "\n",
    "### 2.1. 선택 정렬\n",
    "\n",
    "* 주어진 범위에서 가장 작은 값을 맨앞의 값과 바꾸는 것을 반복\n",
    "\n",
    "* 시간복잡도는 O(n^2)\n",
    "\n",
    "### 2.2. 삽입 정렬\n",
    "\n",
    "* 현재위치에서 뒤로 이동하면서 좌측값이 크다면 값을 바꾸는 것을 반복\n",
    "\n",
    "* 시간복잡도는 O(n^2)\n",
    "\n",
    "* 단, 리스트가 정렬되어 있을경우, 최선의 경우 O(n)\n",
    "\n",
    "### 2.3. 퀵정렬\n",
    "\n",
    "* 기준값(일반적으로 첫번째값) 보다 작은값과 큰값으로 분리 (partition, divide)\n",
    "\n",
    "* 작은값은 좌측에서 우측으로 이동하며 탐색하고, 큰값은 우측에서 좌측으로 이동하며 탐색\n",
    "\n",
    "* 좌,우측 인덱스가 만나면, 기준값과 작은값의 마지막값을 교체\n",
    "\n",
    "* 그리고 좌,우를 각각 다시 반복하여 작업을 수행\n",
    "\n",
    "* 시간복잡도는 O(nLog(n)) 이며, 최악의 경우 O(n^2)\n",
    "\n"
   ]
  },
  {
   "cell_type": "markdown",
   "metadata": {},
   "source": [
    "문제1\n",
    "\n",
    "N, K가 입력되고, 공백으로 구분된 N개의 숫자가 문자열로 2개 입력된다.\n",
    "그리고 K는 2개의 배열에서 교체할수 있는 최대 횟수이다.\n",
    "\n",
    "이때, 첫번째 배열을 2번째 배열의 값과 K번 교체하여 합이 최대가 되도록 계산하라\n",
    "\n",
    "예시\n",
    "5 3\n",
    "1 2 5 4 3\n",
    "5 5 6 6 5\n",
    "\n",
    "출력\n",
    "26"
   ]
  },
  {
   "cell_type": "code",
   "execution_count": 4,
   "metadata": {},
   "outputs": [
    {
     "name": "stdout",
     "output_type": "stream",
     "text": [
      "[6, 6, 5, 4, 5]\n",
      "26\n"
     ]
    }
   ],
   "source": [
    "def solve(arr1, arr2, k):\n",
    "    arr1.sort()\n",
    "    arr2.sort(reverse = True)\n",
    "\n",
    "    for ii in range(k):\n",
    "        arr1[ii] = arr2[ii]\n",
    "\n",
    "    print(arr1)\n",
    "\n",
    "    return sum(arr1)\n",
    "\n",
    "arr1 = [1, 2, 5, 4, 3]\n",
    "arr2 = [5, 5, 6, 6, 5]\n",
    "\n",
    "print(solve(arr1, arr2, 3))\n",
    "\n"
   ]
  }
 ],
 "metadata": {
  "kernelspec": {
   "display_name": "3.10.default",
   "language": "python",
   "name": "python3"
  },
  "language_info": {
   "codemirror_mode": {
    "name": "ipython",
    "version": 3
   },
   "file_extension": ".py",
   "mimetype": "text/x-python",
   "name": "python",
   "nbconvert_exporter": "python",
   "pygments_lexer": "ipython3",
   "version": "3.10.13"
  }
 },
 "nbformat": 4,
 "nbformat_minor": 2
}
