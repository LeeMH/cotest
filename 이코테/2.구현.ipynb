{
 "cells": [
  {
   "cell_type": "markdown",
   "metadata": {},
   "source": [
    "# 구현 알고리즘\n",
    "\n",
    "## 1. 구현 알고리즘 이란?\n",
    "\n",
    "* 알고리즘 자체는 간단하지만, 구현(코딩)이 필요한 문제\n",
    "\n",
    "* 적절한 언어, 자료구조를 사용하면 쉽게 풀리는 경우가 있음\n",
    "\n"
   ]
  },
  {
   "cell_type": "markdown",
   "metadata": {},
   "source": [
    "## 문제1\n",
    "\n",
    "지도의 크기 N(N*N)와 여행자의 이동경로가 문자열로 입력됨(이동경로, LRUD)\n",
    "\n",
    "여행자는 (1,1)의 위치에서 출발하며, 경로를 벗어난 이동경로는 무시\n",
    "\n",
    "최종 여행자의 위치 x, y를 출력하시오\n",
    "\n",
    "예시\n",
    "\n",
    "* N = 5, 이동경로 = RRRUDD \n",
    "    * x = 3, y = 4\n",
    "    * 네번째 U경로는 위치를 벗어나기 때문에 무시"
   ]
  },
  {
   "cell_type": "code",
   "execution_count": 2,
   "metadata": {},
   "outputs": [
    {
     "data": {
      "text/plain": [
       "(3, 4)"
      ]
     },
     "execution_count": 2,
     "metadata": {},
     "output_type": "execute_result"
    }
   ],
   "source": [
    "def solve(n, path):\n",
    "    dx = [0, 0, 1, -1]\n",
    "    dy = [1, -1, 0, 0]\n",
    "    dir = {\n",
    "        'R': 0, \n",
    "        'L': 1, \n",
    "        'D': 2,\n",
    "        'U': 3\n",
    "    }\n",
    "    x, y = 1, 1\n",
    "    for d in path:\n",
    "        nx = x + dx[dir[d]]\n",
    "        ny = y + dy[dir[d]]\n",
    "\n",
    "        if nx <= 0 or nx > n or ny <= 0 or ny > n:\n",
    "            continue\n",
    "\n",
    "        x, y = nx, ny\n",
    "\n",
    "    return nx, ny\n",
    "     \n",
    "solve(5, 'RRRUDD')    \n"
   ]
  },
  {
   "cell_type": "markdown",
   "metadata": {},
   "source": [
    "## 문제2\n",
    "\n",
    "N시가 입력된다.\n",
    "00:00:00 ~ N:59:59 사이, 3이 들어간 모든 시간의 개수를 구하시오\n",
    "\n",
    "예시\n",
    "\n",
    "* 00:00:03 -> 포함\n",
    "* 00:13:00 -> 포함\n",
    "\n",
    "* 12:24:00 -> 포함안됨\n",
    "\n",
    "N = 5 일때, 11475"
   ]
  },
  {
   "cell_type": "code",
   "execution_count": 14,
   "metadata": {},
   "outputs": [
    {
     "data": {
      "text/plain": [
       "11475"
      ]
     },
     "execution_count": 14,
     "metadata": {},
     "output_type": "execute_result"
    }
   ],
   "source": [
    "def solve(n):\n",
    "    result = 0\n",
    "\n",
    "    for h in range(n+1):\n",
    "        for m in range(60):\n",
    "            for s in range(60):\n",
    "                if '3' in str(h) + str(m) + str(s):\n",
    "                    result += 1\n",
    "\n",
    "    return result\n",
    "\n",
    "solve(5)\n",
    "\n",
    "    "
   ]
  },
  {
   "cell_type": "markdown",
   "metadata": {},
   "source": [
    "## 문제3\n",
    "\n",
    "8 * 8 체스판에 말이 있다.\n",
    "\n",
    "이 말은 두칸 이동후 옆으로 한칸 이동가능하다.\n",
    "즉, 좌우로 두칸 이동후 상하로 1칸 또는 상하로 2칸 이동후 좌우로 1칸\n",
    "\n",
    "말의 위치는 좌우는 a~h로 표시하고, 상하는 1~8로 표현한다.\n",
    "특정 위치에 말이 있을때 이동 가능한 경로를 구하시오\n",
    "\n",
    "예시\n",
    "\n",
    "* 말위치 = a1\n",
    "* 이동가능 2"
   ]
  },
  {
   "cell_type": "code",
   "execution_count": 36,
   "metadata": {},
   "outputs": [
    {
     "data": {
      "text/plain": [
       "2"
      ]
     },
     "execution_count": 36,
     "metadata": {},
     "output_type": "execute_result"
    }
   ],
   "source": [
    "def solve(pos):\n",
    "    result = 0\n",
    "    dx = [2, 2, -2, -2, 1, -1, 1, -1]\n",
    "    dy = [1, -1, 1, -1, 2, 2, -2, -2]\n",
    "\n",
    "    m = {\n",
    "        'a': 1,\n",
    "        'b': 2,\n",
    "        'c': 3,\n",
    "        'd': 4,\n",
    "        'e': 5,\n",
    "        'f': 6,\n",
    "        'g': 7,\n",
    "        'h': 8\n",
    "    }    \n",
    "    \n",
    "    x = m[pos[0]]\n",
    "    y = int(pos[1])\n",
    "\n",
    "    for p in range(8):\n",
    "        nx = x + dx[p]\n",
    "        ny = y + dy[p]\n",
    "\n",
    "        if nx >= 1 and nx <= 8 and ny >= 1 and ny <= 8:\n",
    "            result += 1\n",
    "    \n",
    "    return result\n",
    "\n",
    "solve('a1')"
   ]
  },
  {
   "cell_type": "markdown",
   "metadata": {},
   "source": [
    "## 문제4\n",
    "\n",
    "대문자 알파벳과 숫자로 조합된 문자열이 입력됨\n",
    "이때 대문자 알파벳을 오름차순으로 정렬하고, 숫자들은 합을 구한뒤 순서대로 출력하시오\n",
    "\n",
    "예시\n",
    "\n",
    "* 입력 = K1KA5CB7\n",
    "* 출력 = ABCKK13"
   ]
  },
  {
   "cell_type": "code",
   "execution_count": 50,
   "metadata": {},
   "outputs": [
    {
     "data": {
      "text/plain": [
       "'ABCKK13'"
      ]
     },
     "execution_count": 50,
     "metadata": {},
     "output_type": "execute_result"
    }
   ],
   "source": [
    "def solve(input):\n",
    "    result = ''\n",
    "\n",
    "    alphabet = []\n",
    "    nums = []\n",
    "\n",
    "    for c in input:\n",
    "        if c >= 'A' and c <= 'Z':\n",
    "            alphabet.append(c)\n",
    "        else:\n",
    "            nums.append(int(c))\n",
    "\n",
    "    result = ''.join(sorted(alphabet))\n",
    "    # 숫자가 아예 없는 경우도 있을수 있으니까..\n",
    "    if len(nums):\n",
    "        result += str(sum(nums))\n",
    "\n",
    "    return result\n",
    "\n",
    "solve('K1KA5CB7')"
   ]
  }
 ],
 "metadata": {
  "kernelspec": {
   "display_name": "3.10.default",
   "language": "python",
   "name": "python3"
  },
  "language_info": {
   "codemirror_mode": {
    "name": "ipython",
    "version": 3
   },
   "file_extension": ".py",
   "mimetype": "text/x-python",
   "name": "python",
   "nbconvert_exporter": "python",
   "pygments_lexer": "ipython3",
   "version": "3.10.13"
  }
 },
 "nbformat": 4,
 "nbformat_minor": 2
}
