{
 "cells": [
  {
   "cell_type": "markdown",
   "metadata": {},
   "source": [
    "# 그리디 알고리즘\n",
    "\n",
    "## 1. 그리디 알고리즘 이란?\n",
    "\n",
    "* 현재 상황에서 지금당장 제일 좋은것만 선택\n",
    "\n",
    "* 다익스트라 알고리즘등과 다르게 특정상황에서만 사용되어야 함\n",
    "\n",
    "## 2. 정당성 분석\n",
    "\n",
    "* 그리디 알고리즘을 사용해도 되는 상황인지 판단이 필요\n",
    "\n",
    "* 지금 당장 좋은것만 고르더라도 `최적의 해`를 구할수 있는지가 중요\n",
    "\n",
    "* 대표적인 케이스는 `거스름 돈`문제가 그리디 알고리즘으로 해결되는 케이스임.\n",
    "\n",
    "    * 단, 적절한 상황이 되기 위해서, `큰 단위의 수가 작은 단위의 배수` 이어야 함.\n",
    "\n",
    "    * 500, 400, 100원 이라는 상황은 배수가 아니기 때문에 적용되지 않음. (800원인 케이스)\n",
    "\n",
    "* 아래와 같이 이동경로가 최대값을 가지는 path를 찾으라고 할때, 현재 상황에서 최적의 값을 찾으면 안됨 (5, 10, 14)\n",
    "\n",
    "![그래프노드](./images/1.1.그래프노드.png)"
   ]
  },
  {
   "cell_type": "markdown",
   "metadata": {},
   "source": [
    "## 문제1\n",
    "\n",
    "두개의 정수(N, K)가 주어진다.\n",
    "\n",
    "다음 2개의 연산을 최소 반복해서 값이 1이 되는 횟수를 산출\n",
    "\n",
    "* N에서 1을 뺀다\n",
    "\n",
    "* N을 K로 나눈다\n",
    "\n",
    "예시\n",
    "\n",
    "* N = 24, K = 3 인경우, 5회 연산이 수행됨\n",
    "\n",
    "    * N / 3 = 8\n",
    "    * 8 - 1 = 7\n",
    "    * 7 - 1 = 6\n",
    "    * 6 / 3 = 2\n",
    "    * 2 - 1 = 1"
   ]
  },
  {
   "cell_type": "code",
   "execution_count": 4,
   "metadata": {},
   "outputs": [
    {
     "name": "stdout",
     "output_type": "stream",
     "text": [
      "5\n",
      "5\n",
      "6\n",
      "6\n"
     ]
    }
   ],
   "source": [
    "# 일반적인 해법 (시간복잡도 O(N))\n",
    "def solve(n, k):\n",
    "    count = 0\n",
    "    while(True):\n",
    "        if n % k == 0:\n",
    "            n = n / k\n",
    "        else:\n",
    "            n -= 1\n",
    "\n",
    "        count += 1\n",
    "\n",
    "        if n == 1:\n",
    "            return count\n",
    "\n",
    "# 시간복잡도를 개선한 해법 (시간복잡도 O(LOG(N)))\n",
    "def solve2(n, k):\n",
    "    result = 0\n",
    "    while(True):\n",
    "        # k로 나누어 떨어지는 수를 구한다.\n",
    "        target = (n // k) * k\n",
    "        # k로 나누어 떨어지는 수와 차이를 구한다.(-1 연산을 반복했다고 가정)\n",
    "        result += (n - target)\n",
    "        n = target\n",
    "\n",
    "        if n < k:\n",
    "            break\n",
    "\n",
    "        n = n // k\n",
    "        result += 1\n",
    "\n",
    "    # 값이 1이 되어야 한다. 따라서 n-1값만큼 -1 연산을 반복했다고 가정\n",
    "    result += (n - 1)\n",
    "\n",
    "    return result\n",
    "\n",
    "print(solve(24, 3))\n",
    "print(solve2(24, 3))\n",
    "print(solve(25, 3))\n",
    "print(solve2(25, 3))"
   ]
  },
  {
   "cell_type": "markdown",
   "metadata": {},
   "source": [
    "## 문제2\n",
    "\n",
    "문자열로 이루어진 숫자(0~9)가 입력된다.\n",
    "각 숫자들을 더하거나 곱해서 가장 큰수를 만든다.\n",
    "단, 사칙연산 우선 순위와 별개로 좌측부터 우측으로 순차적으로 계산된다.\n",
    "\n",
    "예시\n",
    "\n",
    "* 02984 입력\n",
    "\n",
    "* ((((0+2)*9)*8)*4) = 576"
   ]
  },
  {
   "cell_type": "code",
   "execution_count": 6,
   "metadata": {},
   "outputs": [
    {
     "data": {
      "text/plain": [
       "576"
      ]
     },
     "execution_count": 6,
     "metadata": {},
     "output_type": "execute_result"
    }
   ],
   "source": [
    "def solve(nums):\n",
    "    result = 0\n",
    "    for ii in nums:\n",
    "        if ii == 0 or ii == 1 or result == 0 or result == 1:\n",
    "            result += ii\n",
    "        else:\n",
    "            result *= ii\n",
    "\n",
    "    return result\n",
    "\n",
    "solve([0, 2, 9, 8, 4])\n"
   ]
  },
  {
   "cell_type": "markdown",
   "metadata": {},
   "source": [
    "## 문제3\n",
    "\n",
    "모험을 떠난다.\n",
    "\n",
    "N개의 모험가의 공포도가 문자열로 입력된다.\n",
    "\n",
    "공포도 X인 모험가는 최소 X명으로 이뤄진 그룹에 포함되어야 한다.\n",
    "\n",
    "이때, 만들수 있는 최대 모험가 그룹을 구하시오\n",
    "\n",
    "단, 모든 모험가가 모험을 떠나지 않아도 된다. 즉, 그룹에 포함되지 않아도 된다.\n",
    "\n",
    "예시)\n",
    "\n",
    "* N = 5, 공포도 = 12322\n",
    "\n",
    "* (1), (2, 2) = 2개 그룹"
   ]
  },
  {
   "cell_type": "code",
   "execution_count": 14,
   "metadata": {},
   "outputs": [
    {
     "name": "stdout",
     "output_type": "stream",
     "text": [
      "[1, 2, 2, 2, 3]\n"
     ]
    },
    {
     "data": {
      "text/plain": [
       "2"
      ]
     },
     "execution_count": 14,
     "metadata": {},
     "output_type": "execute_result"
    }
   ],
   "source": [
    "def solve(nums):\n",
    "    # 결성된 그룹\n",
    "    result = 0\n",
    "    # 현재 그룹의 모험가수\n",
    "    count = 0\n",
    "    sorted_nums = sorted(nums)\n",
    "    print(sorted_nums)\n",
    "    for ii in sorted_nums:\n",
    "        count += 1\n",
    "        if count >= ii:\n",
    "            result += 1\n",
    "            count = 0\n",
    "\n",
    "    return result\n",
    "\n",
    "solve([1, 2, 3, 2, 2])"
   ]
  }
 ],
 "metadata": {
  "kernelspec": {
   "display_name": "3.10.default",
   "language": "python",
   "name": "python3"
  },
  "language_info": {
   "codemirror_mode": {
    "name": "ipython",
    "version": 3
   },
   "file_extension": ".py",
   "mimetype": "text/x-python",
   "name": "python",
   "nbconvert_exporter": "python",
   "pygments_lexer": "ipython3",
   "version": "3.10.13"
  }
 },
 "nbformat": 4,
 "nbformat_minor": 2
}
